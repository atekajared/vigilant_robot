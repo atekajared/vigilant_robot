{
 "cells": [
  {
   "cell_type": "code",
   "execution_count": 38,
   "id": "92245499",
   "metadata": {},
   "outputs": [
    {
     "data": {
      "text/plain": [
       "list"
      ]
     },
     "execution_count": 38,
     "metadata": {},
     "output_type": "execute_result"
    }
   ],
   "source": [
    "info_table = [\n",
    "    {\"color\": \"green\", \"number\": 7, \"Owner\": \"Jared\"},\n",
    "    {\"color\": \"red\", \"number\": 2, \"Owner\": \"Ateka\"},\n",
    "    {\"color\": \"orange\", \"number\": 1, \"Owner\": \"peter\"}\n",
    "]\n",
    "\n",
    "type(info_table) "
   ]
  },
  {
   "cell_type": "code",
   "execution_count": 39,
   "id": "6464e52f",
   "metadata": {},
   "outputs": [
    {
     "name": "stdout",
     "output_type": "stream",
     "text": [
      " green 7 Jared| red 2 Ateka| orange 1 peter|"
     ]
    }
   ],
   "source": [
    "for row in info_table:\n",
    "   # print(row[\"color\"]) \n",
    "      print(f\" {row['color']} {row['number']} {row['Owner']}\", end = '|')"
   ]
  },
  {
   "cell_type": "code",
   "execution_count": 44,
   "id": "bef47b36",
   "metadata": {},
   "outputs": [
    {
     "name": "stdout",
     "output_type": "stream",
     "text": [
      "{'color': 'orange', 'number': 1, 'Owner': 'peter'}\n"
     ]
    }
   ],
   "source": [
    "print(row)"
   ]
  },
  {
   "cell_type": "code",
   "execution_count": 40,
   "id": "3494ae7c",
   "metadata": {},
   "outputs": [
    {
     "data": {
      "text/plain": [
       "pandas.core.frame.DataFrame"
      ]
     },
     "execution_count": 40,
     "metadata": {},
     "output_type": "execute_result"
    }
   ],
   "source": [
    "import pandas as pd\n",
    "df = pd.DataFrame(info_table)\n",
    "type(df) "
   ]
  },
  {
   "cell_type": "code",
   "execution_count": 43,
   "id": "0e73633d",
   "metadata": {},
   "outputs": [
    {
     "name": "stdout",
     "output_type": "stream",
     "text": [
      "    color  number  Owner\n",
      "0   green       7  Jared\n",
      "1     red       2  Ateka\n",
      "2  orange       1  peter\n"
     ]
    }
   ],
   "source": [
    "print(df)"
   ]
  },
  {
   "cell_type": "code",
   "execution_count": 42,
   "id": "3ead0020",
   "metadata": {},
   "outputs": [
    {
     "name": "stdout",
     "output_type": "stream",
     "text": [
      "    color  number\n",
      "0   green       7\n",
      "1     red       2\n",
      "2  orange       1\n"
     ]
    }
   ],
   "source": [
    "print(df[[\"color\", \"number\", ]]) "
   ]
  },
  {
   "cell_type": "code",
   "execution_count": 11,
   "id": "8de7d44a",
   "metadata": {},
   "outputs": [],
   "source": [
    "import csv\n",
    "import json "
   ]
  },
  {
   "cell_type": "code",
   "execution_count": 8,
   "id": "e677280b",
   "metadata": {},
   "outputs": [
    {
     "name": "stdout",
     "output_type": "stream",
     "text": [
      "Total apple tree yields: 6\n",
      "Average apple tree yield: 42.03497988574005\n",
      "Maximum apple tree yield: 46.6006230827385\n",
      "Minimum apple tree yield: 39.741234289561504\n"
     ]
    }
   ],
   "source": [
    "with open(\"apple_orchard.csv\") as f:\n",
    "    apple_orchard_data = list(csv.DictReader(f))\n",
    "    apple_tree_yields = [float(x[\"yield\"]) for x in apple_orchard_data]\n",
    "    print(\"Total apple tree yields:\", len(apple_tree_yields))\n",
    "    print(\"Average apple tree yield:\", sum(apple_tree_yields) / len(apple_tree_yields))\n",
    "    print(\"Maximum apple tree yield:\", max(apple_tree_yields))\n",
    "    print(\"Minimum apple tree yield:\", min(apple_tree_yields)) "
   ]
  },
  {
   "cell_type": "code",
   "execution_count": 19,
   "id": "8fc40779",
   "metadata": {},
   "outputs": [
    {
     "name": "stdout",
     "output_type": "stream",
     "text": [
      "There are 8 users in this dataset\n",
      "\n",
      "Top 5 Sources:\n",
      "User 232762581\t| 4 Tweets\n",
      "User 347457291\t| 3 Tweets\n",
      "\n",
      "Top 5 Targets:\n",
      "User 232762581\t| 1 Tweets\n",
      "User 119706266\t| 1 Tweets\n",
      "User 421509544\t| 1 Tweets\n",
      "User 222957350\t| 1 Tweets\n",
      "User 21648607\t| 1 Tweets\n"
     ]
    }
   ],
   "source": [
    "def build_freq_table(key, links):\n",
    "    table = {}\n",
    "    for link in links:\n",
    "        user = link[key]\n",
    "        table[user] = table.get(user, 0) + 1\n",
    "    return table\n",
    "\n",
    "def print_top_5(table):\n",
    "    for k, v in sorted(table.items(), key=lambda x: x[1], reverse=True)[:5]:\n",
    "        print(f\"User {k}\\t| {v} Tweets\")\n",
    "\n",
    "with open(\"twitter.json\") as f:\n",
    "    twitter_data = json.load(f)\n",
    "    print(f\"There are {len(twitter_data['nodes'])} users in this dataset\")\n",
    "    print()\n",
    "\n",
    "    links = twitter_data[\"links\"]\n",
    "    sources = build_freq_table(\"source\", links)\n",
    "    targets = build_freq_table(\"target\", links)\n",
    "\n",
    "    print(\"Top 5 Sources:\")\n",
    "    print_top_5(sources)\n",
    "    print()\n",
    "    print(\"Top 5 Targets:\")\n",
    "    print_top_5(targets) "
   ]
  },
  {
   "cell_type": "code",
   "execution_count": 20,
   "id": "ffc305d2",
   "metadata": {},
   "outputs": [
    {
     "ename": "SyntaxError",
     "evalue": "unexpected EOF while parsing (<ipython-input-20-55b14484197f>, line 2)",
     "output_type": "error",
     "traceback": [
      "\u001b[1;36m  File \u001b[1;32m\"<ipython-input-20-55b14484197f>\"\u001b[1;36m, line \u001b[1;32m2\u001b[0m\n\u001b[1;33m    hex(id(x)\u001b[0m\n\u001b[1;37m             ^\u001b[0m\n\u001b[1;31mSyntaxError\u001b[0m\u001b[1;31m:\u001b[0m unexpected EOF while parsing\n"
     ]
    }
   ],
   "source": [
    "x = [5, 6, 7]\n",
    "hex(id(x)"
   ]
  }
 ],
 "metadata": {
  "kernelspec": {
   "display_name": "learn-env",
   "language": "python",
   "name": "python3"
  },
  "language_info": {
   "codemirror_mode": {
    "name": "ipython",
    "version": 3
   },
   "file_extension": ".py",
   "mimetype": "text/x-python",
   "name": "python",
   "nbconvert_exporter": "python",
   "pygments_lexer": "ipython3",
   "version": "3.8.5"
  }
 },
 "nbformat": 4,
 "nbformat_minor": 5
}
