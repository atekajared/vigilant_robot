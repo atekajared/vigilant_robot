{
 "cells": [
  {
   "cell_type": "markdown",
   "id": "413d02fe",
   "metadata": {},
   "source": [
    "### convariance and correlation"
   ]
  },
  {
   "cell_type": "code",
   "execution_count": null,
   "id": "8b80641e",
   "metadata": {
    "vscode": {
     "languageId": "plaintext"
    }
   },
   "outputs": [],
   "source": [
    "\"\"\"\n",
    "weight (x1)\"\"\"\"\n",
    "\n",
    "\"\"\""
   ]
  },
  {
   "cell_type": "code",
   "execution_count": null,
   "id": "0e3e6597",
   "metadata": {
    "vscode": {
     "languageId": "plaintext"
    }
   },
   "outputs": [],
   "source": [
    "\n",
    "import numpy as np\n",
    "x = np.array([2,4,8,16,32])\n",
    "y = np.array([1,2,3,4,6])"
   ]
  }
 ],
 "metadata": {
  "language_info": {
   "name": "python"
  }
 },
 "nbformat": 4,
 "nbformat_minor": 5
}
